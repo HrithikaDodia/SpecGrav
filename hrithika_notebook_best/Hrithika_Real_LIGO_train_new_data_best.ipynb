{
 "cells": [
  {
   "cell_type": "code",
   "execution_count": 1,
   "metadata": {},
   "outputs": [],
   "source": [
    "import tensorflow as tf\n",
    "from keras.preprocessing.image import ImageDataGenerator\n",
    "from keras.callbacks import ModelCheckpoint\n",
    "from hrithika_model import spec_grav_model_newdata\n",
    "from keras.optimizers import Adam"
   ]
  },
  {
   "cell_type": "code",
   "execution_count": 2,
   "metadata": {},
   "outputs": [
    {
     "data": {
      "text/plain": [
       "[PhysicalDevice(name='/physical_device:GPU:0', device_type='GPU')]"
      ]
     },
     "execution_count": 2,
     "metadata": {},
     "output_type": "execute_result"
    }
   ],
   "source": [
    "tf.config.list_physical_devices('GPU')"
   ]
  },
  {
   "cell_type": "code",
   "execution_count": 3,
   "metadata": {},
   "outputs": [
    {
     "name": "stdout",
     "output_type": "stream",
     "text": [
      "Thu Apr 22 18:17:15 2021       \n",
      "+-----------------------------------------------------------------------------+\n",
      "| NVIDIA-SMI 457.63       Driver Version: 457.63       CUDA Version: 11.1     |\n",
      "|-------------------------------+----------------------+----------------------+\n",
      "| GPU  Name            TCC/WDDM | Bus-Id        Disp.A | Volatile Uncorr. ECC |\n",
      "| Fan  Temp  Perf  Pwr:Usage/Cap|         Memory-Usage | GPU-Util  Compute M. |\n",
      "|                               |                      |               MIG M. |\n",
      "|===============================+======================+======================|\n",
      "|   0  GeForce MX250      WDDM  | 00000000:02:00.0 Off |                  N/A |\n",
      "| N/A   44C    P8    N/A /  N/A |     64MiB /  2048MiB |      1%      Default |\n",
      "|                               |                      |                  N/A |\n",
      "+-------------------------------+----------------------+----------------------+\n",
      "                                                                               \n",
      "+-----------------------------------------------------------------------------+\n",
      "| Processes:                                                                  |\n",
      "|  GPU   GI   CI        PID   Type   Process name                  GPU Memory |\n",
      "|        ID   ID                                                   Usage      |\n",
      "|=============================================================================|\n",
      "|  No running processes found                                                 |\n",
      "+-----------------------------------------------------------------------------+\n"
     ]
    }
   ],
   "source": [
    "! nvidia-smi"
   ]
  },
  {
   "cell_type": "code",
   "execution_count": 4,
   "metadata": {},
   "outputs": [],
   "source": [
    "BATCH_SIZE = 32\n",
    "INPUT_SHAPE = (256, 64, 3)\n",
    "LEN_TRAIN = 10500\n",
    "LEN_VAL = 1500"
   ]
  },
  {
   "cell_type": "code",
   "execution_count": 5,
   "metadata": {},
   "outputs": [],
   "source": [
    "img_data = ImageDataGenerator(\n",
    "                rescale = 1./255\n",
    "            )"
   ]
  },
  {
   "cell_type": "code",
   "execution_count": 6,
   "metadata": {},
   "outputs": [
    {
     "name": "stdout",
     "output_type": "stream",
     "text": [
      "Found 10500 images belonging to 3 classes.\n",
      "Found 1500 images belonging to 3 classes.\n"
     ]
    }
   ],
   "source": [
    "train_gen = img_data.flow_from_directory(\n",
    "                'Hrithika_LIGO_data_structured/train',\n",
    "                target_size=(INPUT_SHAPE[0], INPUT_SHAPE[1]),\n",
    "                batch_size=BATCH_SIZE,\n",
    "                class_mode='sparse',\n",
    "                classes=['bbh','bns','noise'],\n",
    "                shuffle=True,\n",
    "                seed=101\n",
    "            )\n",
    "val_gen = img_data.flow_from_directory(\n",
    "                'Hrithika_LIGO_data_structured/val',\n",
    "                target_size=(INPUT_SHAPE[0], INPUT_SHAPE[1]),\n",
    "                batch_size=BATCH_SIZE,\n",
    "                class_mode='sparse',\n",
    "                classes=['bbh','bns','noise']\n",
    "            )"
   ]
  },
  {
   "cell_type": "code",
   "execution_count": 7,
   "metadata": {},
   "outputs": [],
   "source": [
    "model = spec_grav_model_newdata(input_shape=INPUT_SHAPE)"
   ]
  },
  {
   "cell_type": "code",
   "execution_count": 8,
   "metadata": {},
   "outputs": [
    {
     "name": "stdout",
     "output_type": "stream",
     "text": [
      "Model: \"model\"\n",
      "_________________________________________________________________\n",
      "Layer (type)                 Output Shape              Param #   \n",
      "=================================================================\n",
      "input_1 (InputLayer)         [(None, 256, 64, 3)]      0         \n",
      "_________________________________________________________________\n",
      "conv2d (Conv2D)              (None, 254, 62, 32)       896       \n",
      "_________________________________________________________________\n",
      "max_pooling2d (MaxPooling2D) (None, 127, 31, 32)       0         \n",
      "_________________________________________________________________\n",
      "conv2d_1 (Conv2D)            (None, 125, 29, 64)       18496     \n",
      "_________________________________________________________________\n",
      "max_pooling2d_1 (MaxPooling2 (None, 62, 14, 64)        0         \n",
      "_________________________________________________________________\n",
      "conv2d_2 (Conv2D)            (None, 60, 12, 128)       73856     \n",
      "_________________________________________________________________\n",
      "max_pooling2d_2 (MaxPooling2 (None, 30, 6, 128)        0         \n",
      "_________________________________________________________________\n",
      "conv2d_3 (Conv2D)            (None, 28, 4, 128)        147584    \n",
      "_________________________________________________________________\n",
      "max_pooling2d_3 (MaxPooling2 (None, 14, 2, 128)        0         \n",
      "_________________________________________________________________\n",
      "flatten (Flatten)            (None, 3584)              0         \n",
      "_________________________________________________________________\n",
      "dense (Dense)                (None, 128)               458880    \n",
      "_________________________________________________________________\n",
      "dense_1 (Dense)              (None, 64)                8256      \n",
      "_________________________________________________________________\n",
      "dense_2 (Dense)              (None, 3)                 195       \n",
      "=================================================================\n",
      "Total params: 708,163\n",
      "Trainable params: 708,163\n",
      "Non-trainable params: 0\n",
      "_________________________________________________________________\n"
     ]
    }
   ],
   "source": [
    "model.summary()"
   ]
  },
  {
   "cell_type": "code",
   "execution_count": 9,
   "metadata": {},
   "outputs": [],
   "source": [
    "filepath = './hrithika_specgrav_model_files_LIGO_new_data/spec-grav-model-newdata-{epoch:02d}-{val_accuracy:.2f}.hdf5'\n",
    "model_checkpoint = ModelCheckpoint(filepath=filepath, save_weights_only=False, verbose=1)"
   ]
  },
  {
   "cell_type": "code",
   "execution_count": 10,
   "metadata": {},
   "outputs": [],
   "source": [
    "opt = Adam(lr=1e-4)\n",
    "model.compile(optimizer=opt, loss='sparse_categorical_crossentropy', metrics=['accuracy'])"
   ]
  },
  {
   "cell_type": "code",
   "execution_count": 11,
   "metadata": {},
   "outputs": [
    {
     "name": "stdout",
     "output_type": "stream",
     "text": [
      "Epoch 1/10\n",
      "328/328 [==============================] - ETA: 0s - loss: 0.8879 - accuracy: 0.5550\n",
      "Epoch 00001: saving model to ./hrithika_specgrav_model_files_LIGO_new_data/spec-grav-model-newdata-01-0.72.hdf5\n",
      "328/328 [==============================] - 158s 481ms/step - loss: 0.8879 - accuracy: 0.5550 - val_loss: 0.6238 - val_accuracy: 0.7242\n",
      "Epoch 2/10\n",
      "328/328 [==============================] - ETA: 0s - loss: 0.5917 - accuracy: 0.7487\n",
      "Epoch 00002: saving model to ./hrithika_specgrav_model_files_LIGO_new_data/spec-grav-model-newdata-02-0.77.hdf5\n",
      "328/328 [==============================] - 34s 103ms/step - loss: 0.5917 - accuracy: 0.7487 - val_loss: 0.5227 - val_accuracy: 0.7656\n",
      "Epoch 3/10\n",
      "328/328 [==============================] - ETA: 0s - loss: 0.5210 - accuracy: 0.7861\n",
      "Epoch 00003: saving model to ./hrithika_specgrav_model_files_LIGO_new_data/spec-grav-model-newdata-03-0.77.hdf5\n",
      "328/328 [==============================] - 37s 114ms/step - loss: 0.5210 - accuracy: 0.7861 - val_loss: 0.5240 - val_accuracy: 0.7683\n",
      "Epoch 4/10\n",
      "328/328 [==============================] - ETA: 0s - loss: 0.4924 - accuracy: 0.7971\n",
      "Epoch 00004: saving model to ./hrithika_specgrav_model_files_LIGO_new_data/spec-grav-model-newdata-04-0.78.hdf5\n",
      "328/328 [==============================] - 37s 114ms/step - loss: 0.4924 - accuracy: 0.7971 - val_loss: 0.5061 - val_accuracy: 0.7806\n",
      "Epoch 5/10\n",
      "328/328 [==============================] - ETA: 0s - loss: 0.4691 - accuracy: 0.8081\n",
      "Epoch 00005: saving model to ./hrithika_specgrav_model_files_LIGO_new_data/spec-grav-model-newdata-05-0.81.hdf5\n",
      "328/328 [==============================] - 34s 102ms/step - loss: 0.4691 - accuracy: 0.8081 - val_loss: 0.4614 - val_accuracy: 0.8111\n",
      "Epoch 6/10\n",
      "328/328 [==============================] - ETA: 0s - loss: 0.4562 - accuracy: 0.8147\n",
      "Epoch 00006: saving model to ./hrithika_specgrav_model_files_LIGO_new_data/spec-grav-model-newdata-06-0.82.hdf5\n",
      "328/328 [==============================] - 37s 114ms/step - loss: 0.4562 - accuracy: 0.8147 - val_loss: 0.4599 - val_accuracy: 0.8166\n",
      "Epoch 7/10\n",
      "328/328 [==============================] - ETA: 0s - loss: 0.4414 - accuracy: 0.8219\n",
      "Epoch 00007: saving model to ./hrithika_specgrav_model_files_LIGO_new_data/spec-grav-model-newdata-07-0.82.hdf5\n",
      "328/328 [==============================] - 38s 114ms/step - loss: 0.4414 - accuracy: 0.8219 - val_loss: 0.4496 - val_accuracy: 0.8159\n",
      "Epoch 8/10\n",
      "328/328 [==============================] - ETA: 0s - loss: 0.4314 - accuracy: 0.8259\n",
      "Epoch 00008: saving model to ./hrithika_specgrav_model_files_LIGO_new_data/spec-grav-model-newdata-08-0.83.hdf5\n",
      "328/328 [==============================] - 34s 103ms/step - loss: 0.4314 - accuracy: 0.8259 - val_loss: 0.4465 - val_accuracy: 0.8261\n",
      "Epoch 9/10\n",
      "328/328 [==============================] - ETA: 0s - loss: 0.4230 - accuracy: 0.8302\n",
      "Epoch 00009: saving model to ./hrithika_specgrav_model_files_LIGO_new_data/spec-grav-model-newdata-09-0.83.hdf5\n",
      "328/328 [==============================] - 38s 115ms/step - loss: 0.4230 - accuracy: 0.8302 - val_loss: 0.4253 - val_accuracy: 0.8274\n",
      "Epoch 10/10\n",
      "328/328 [==============================] - ETA: 0s - loss: 0.4127 - accuracy: 0.8330\n",
      "Epoch 00010: saving model to ./hrithika_specgrav_model_files_LIGO_new_data/spec-grav-model-newdata-10-0.83.hdf5\n",
      "328/328 [==============================] - 34s 103ms/step - loss: 0.4127 - accuracy: 0.8330 - val_loss: 0.4288 - val_accuracy: 0.8302\n"
     ]
    }
   ],
   "source": [
    "history = model.fit(\n",
    "        train_gen,\n",
    "        steps_per_epoch=(LEN_TRAIN//BATCH_SIZE),\n",
    "        epochs=10,\n",
    "        validation_data=val_gen,\n",
    "        validation_steps=(LEN_VAL//BATCH_SIZE),\n",
    "        callbacks=[model_checkpoint]\n",
    ")"
   ]
  },
  {
   "cell_type": "code",
   "execution_count": 18,
   "metadata": {},
   "outputs": [
    {
     "name": "stdout",
     "output_type": "stream",
     "text": [
      "Epoch 1/25\n",
      "328/328 [==============================] - ETA: 0s - loss: 0.4027 - accuracy: 0.8407\n",
      "Epoch 00001: saving model to ./hrithika_specgrav_model_files_LIGO_new_data_run_two/spec-grav-model-newdata-run-two-01-0.83.hdf5\n",
      "328/328 [==============================] - 34s 105ms/step - loss: 0.4027 - accuracy: 0.8407 - val_loss: 0.4210 - val_accuracy: 0.8302\n",
      "Epoch 2/25\n",
      "328/328 [==============================] - ETA: 0s - loss: 0.3925 - accuracy: 0.8411\n",
      "Epoch 00002: saving model to ./hrithika_specgrav_model_files_LIGO_new_data_run_two/spec-grav-model-newdata-run-two-02-0.84.hdf5\n",
      "328/328 [==============================] - 28s 86ms/step - loss: 0.3925 - accuracy: 0.8411 - val_loss: 0.4120 - val_accuracy: 0.8370\n",
      "Epoch 3/25\n",
      "328/328 [==============================] - ETA: 0s - loss: 0.3900 - accuracy: 0.8440\n",
      "Epoch 00003: saving model to ./hrithika_specgrav_model_files_LIGO_new_data_run_two/spec-grav-model-newdata-run-two-03-0.83.hdf5\n",
      "328/328 [==============================] - 28s 85ms/step - loss: 0.3900 - accuracy: 0.8440 - val_loss: 0.4204 - val_accuracy: 0.8349\n",
      "Epoch 4/25\n",
      "328/328 [==============================] - ETA: 0s - loss: 0.3773 - accuracy: 0.8482\n",
      "Epoch 00004: saving model to ./hrithika_specgrav_model_files_LIGO_new_data_run_two/spec-grav-model-newdata-run-two-04-0.83.hdf5\n",
      "328/328 [==============================] - 28s 85ms/step - loss: 0.3773 - accuracy: 0.8482 - val_loss: 0.4095 - val_accuracy: 0.8295\n",
      "Epoch 5/25\n",
      "328/328 [==============================] - ETA: 0s - loss: 0.3730 - accuracy: 0.8499\n",
      "Epoch 00005: saving model to ./hrithika_specgrav_model_files_LIGO_new_data_run_two/spec-grav-model-newdata-run-two-05-0.83.hdf5\n",
      "328/328 [==============================] - 28s 85ms/step - loss: 0.3730 - accuracy: 0.8499 - val_loss: 0.4096 - val_accuracy: 0.8274\n",
      "Epoch 6/25\n",
      "328/328 [==============================] - ETA: 0s - loss: 0.3634 - accuracy: 0.8562\n",
      "Epoch 00006: saving model to ./hrithika_specgrav_model_files_LIGO_new_data_run_two/spec-grav-model-newdata-run-two-06-0.84.hdf5\n",
      "328/328 [==============================] - 28s 85ms/step - loss: 0.3634 - accuracy: 0.8562 - val_loss: 0.4127 - val_accuracy: 0.8397\n",
      "Epoch 7/25\n",
      "328/328 [==============================] - ETA: 0s - loss: 0.3504 - accuracy: 0.8622\n",
      "Epoch 00007: saving model to ./hrithika_specgrav_model_files_LIGO_new_data_run_two/spec-grav-model-newdata-run-two-07-0.83.hdf5\n",
      "328/328 [==============================] - 28s 85ms/step - loss: 0.3504 - accuracy: 0.8622 - val_loss: 0.4145 - val_accuracy: 0.8342\n",
      "Epoch 8/25\n",
      "328/328 [==============================] - ETA: 0s - loss: 0.3425 - accuracy: 0.8638\n",
      "Epoch 00008: saving model to ./hrithika_specgrav_model_files_LIGO_new_data_run_two/spec-grav-model-newdata-run-two-08-0.81.hdf5\n",
      "328/328 [==============================] - 28s 85ms/step - loss: 0.3425 - accuracy: 0.8638 - val_loss: 0.4488 - val_accuracy: 0.8145\n",
      "Epoch 9/25\n",
      "328/328 [==============================] - ETA: 0s - loss: 0.3364 - accuracy: 0.8682\n",
      "Epoch 00009: saving model to ./hrithika_specgrav_model_files_LIGO_new_data_run_two/spec-grav-model-newdata-run-two-09-0.83.hdf5\n",
      "328/328 [==============================] - 28s 86ms/step - loss: 0.3364 - accuracy: 0.8682 - val_loss: 0.4183 - val_accuracy: 0.8342\n",
      "Epoch 10/25\n",
      "328/328 [==============================] - ETA: 0s - loss: 0.3290 - accuracy: 0.8713\n",
      "Epoch 00010: saving model to ./hrithika_specgrav_model_files_LIGO_new_data_run_two/spec-grav-model-newdata-run-two-10-0.84.hdf5\n",
      "328/328 [==============================] - 28s 86ms/step - loss: 0.3290 - accuracy: 0.8713 - val_loss: 0.4170 - val_accuracy: 0.8356\n",
      "Epoch 11/25\n",
      "328/328 [==============================] - ETA: 0s - loss: 0.3165 - accuracy: 0.8759\n",
      "Epoch 00011: saving model to ./hrithika_specgrav_model_files_LIGO_new_data_run_two/spec-grav-model-newdata-run-two-11-0.83.hdf5\n",
      "328/328 [==============================] - 28s 86ms/step - loss: 0.3165 - accuracy: 0.8759 - val_loss: 0.4364 - val_accuracy: 0.8329\n",
      "Epoch 12/25\n",
      "328/328 [==============================] - ETA: 0s - loss: 0.3084 - accuracy: 0.8818\n",
      "Epoch 00012: saving model to ./hrithika_specgrav_model_files_LIGO_new_data_run_two/spec-grav-model-newdata-run-two-12-0.83.hdf5\n",
      "328/328 [==============================] - 28s 86ms/step - loss: 0.3084 - accuracy: 0.8818 - val_loss: 0.4368 - val_accuracy: 0.8322\n",
      "Epoch 13/25\n",
      "328/328 [==============================] - ETA: 0s - loss: 0.2986 - accuracy: 0.8871\n",
      "Epoch 00013: saving model to ./hrithika_specgrav_model_files_LIGO_new_data_run_two/spec-grav-model-newdata-run-two-13-0.83.hdf5\n",
      "328/328 [==============================] - 28s 86ms/step - loss: 0.2986 - accuracy: 0.8871 - val_loss: 0.4597 - val_accuracy: 0.8308\n",
      "Epoch 14/25\n",
      "328/328 [==============================] - ETA: 0s - loss: 0.2878 - accuracy: 0.8878\n",
      "Epoch 00014: saving model to ./hrithika_specgrav_model_files_LIGO_new_data_run_two/spec-grav-model-newdata-run-two-14-0.82.hdf5\n",
      "328/328 [==============================] - 29s 87ms/step - loss: 0.2878 - accuracy: 0.8878 - val_loss: 0.4648 - val_accuracy: 0.8220\n",
      "Epoch 15/25\n",
      "328/328 [==============================] - ETA: 0s - loss: 0.2773 - accuracy: 0.8955\n",
      "Epoch 00015: saving model to ./hrithika_specgrav_model_files_LIGO_new_data_run_two/spec-grav-model-newdata-run-two-15-0.81.hdf5\n",
      "328/328 [==============================] - 28s 87ms/step - loss: 0.2773 - accuracy: 0.8955 - val_loss: 0.4656 - val_accuracy: 0.8139\n",
      "Epoch 16/25\n",
      "328/328 [==============================] - ETA: 0s - loss: 0.2737 - accuracy: 0.8946\n",
      "Epoch 00016: saving model to ./hrithika_specgrav_model_files_LIGO_new_data_run_two/spec-grav-model-newdata-run-two-16-0.81.hdf5\n",
      "328/328 [==============================] - 28s 87ms/step - loss: 0.2737 - accuracy: 0.8946 - val_loss: 0.4691 - val_accuracy: 0.8077\n",
      "Epoch 17/25\n",
      "328/328 [==============================] - ETA: 0s - loss: 0.2606 - accuracy: 0.9004\n",
      "Epoch 00017: saving model to ./hrithika_specgrav_model_files_LIGO_new_data_run_two/spec-grav-model-newdata-run-two-17-0.81.hdf5\n",
      "328/328 [==============================] - 28s 87ms/step - loss: 0.2606 - accuracy: 0.9004 - val_loss: 0.4798 - val_accuracy: 0.8098\n",
      "Epoch 18/25\n",
      "328/328 [==============================] - ETA: 0s - loss: 0.2463 - accuracy: 0.9065\n",
      "Epoch 00018: saving model to ./hrithika_specgrav_model_files_LIGO_new_data_run_two/spec-grav-model-newdata-run-two-18-0.80.hdf5\n",
      "328/328 [==============================] - 28s 86ms/step - loss: 0.2463 - accuracy: 0.9065 - val_loss: 0.5188 - val_accuracy: 0.7996\n",
      "Epoch 19/25\n",
      "328/328 [==============================] - ETA: 0s - loss: 0.2343 - accuracy: 0.9113\n",
      "Epoch 00019: saving model to ./hrithika_specgrav_model_files_LIGO_new_data_run_two/spec-grav-model-newdata-run-two-19-0.80.hdf5\n",
      "328/328 [==============================] - 28s 86ms/step - loss: 0.2343 - accuracy: 0.9113 - val_loss: 0.5406 - val_accuracy: 0.7982\n",
      "Epoch 20/25\n",
      "328/328 [==============================] - ETA: 0s - loss: 0.2298 - accuracy: 0.9122\n",
      "Epoch 00020: saving model to ./hrithika_specgrav_model_files_LIGO_new_data_run_two/spec-grav-model-newdata-run-two-20-0.82.hdf5\n",
      "328/328 [==============================] - 28s 86ms/step - loss: 0.2298 - accuracy: 0.9122 - val_loss: 0.5433 - val_accuracy: 0.8152\n",
      "Epoch 21/25\n",
      "328/328 [==============================] - ETA: 0s - loss: 0.2158 - accuracy: 0.9192\n",
      "Epoch 00021: saving model to ./hrithika_specgrav_model_files_LIGO_new_data_run_two/spec-grav-model-newdata-run-two-21-0.81.hdf5\n",
      "328/328 [==============================] - 29s 87ms/step - loss: 0.2158 - accuracy: 0.9192 - val_loss: 0.5519 - val_accuracy: 0.8064\n",
      "Epoch 22/25\n",
      "328/328 [==============================] - ETA: 0s - loss: 0.2001 - accuracy: 0.9257\n",
      "Epoch 00022: saving model to ./hrithika_specgrav_model_files_LIGO_new_data_run_two/spec-grav-model-newdata-run-two-22-0.81.hdf5\n",
      "328/328 [==============================] - 28s 87ms/step - loss: 0.2001 - accuracy: 0.9257 - val_loss: 0.5737 - val_accuracy: 0.8145\n",
      "Epoch 23/25\n",
      "328/328 [==============================] - ETA: 0s - loss: 0.1918 - accuracy: 0.9254\n",
      "Epoch 00023: saving model to ./hrithika_specgrav_model_files_LIGO_new_data_run_two/spec-grav-model-newdata-run-two-23-0.81.hdf5\n",
      "328/328 [==============================] - 28s 86ms/step - loss: 0.1918 - accuracy: 0.9254 - val_loss: 0.5784 - val_accuracy: 0.8132\n"
     ]
    },
    {
     "name": "stdout",
     "output_type": "stream",
     "text": [
      "Epoch 24/25\n",
      "328/328 [==============================] - ETA: 0s - loss: 0.1852 - accuracy: 0.9291\n",
      "Epoch 00024: saving model to ./hrithika_specgrav_model_files_LIGO_new_data_run_two/spec-grav-model-newdata-run-two-24-0.81.hdf5\n",
      "328/328 [==============================] - 28s 86ms/step - loss: 0.1852 - accuracy: 0.9291 - val_loss: 0.6129 - val_accuracy: 0.8077\n",
      "Epoch 25/25\n",
      "328/328 [==============================] - ETA: 0s - loss: 0.1736 - accuracy: 0.9333\n",
      "Epoch 00025: saving model to ./hrithika_specgrav_model_files_LIGO_new_data_run_two/spec-grav-model-newdata-run-two-25-0.80.hdf5\n",
      "328/328 [==============================] - 28s 86ms/step - loss: 0.1736 - accuracy: 0.9333 - val_loss: 0.6314 - val_accuracy: 0.7969\n"
     ]
    }
   ],
   "source": [
    "from keras.models import load_model\n",
    "\n",
    "filepath = './hrithika_specgrav_model_files_LIGO_new_data_run_two/spec-grav-model-newdata-run-two-{epoch:02d}-{val_accuracy:.2f}.hdf5'\n",
    "model_checkpoint = ModelCheckpoint(filepath=filepath, save_weights_only=False, verbose=1)\n",
    "\n",
    "model = load_model('./hrithika_specgrav_model_files_LIGO_new_data/spec-grav-model-newdata-10-0.83.hdf5')\n",
    "\n",
    "history = model.fit(\n",
    "        train_gen,\n",
    "        steps_per_epoch=(LEN_TRAIN//BATCH_SIZE),\n",
    "        epochs=25,\n",
    "        validation_data=val_gen,\n",
    "        validation_steps=(LEN_VAL//BATCH_SIZE),\n",
    "        callbacks=[model_checkpoint]\n",
    ")"
   ]
  },
  {
   "cell_type": "code",
   "execution_count": 22,
   "metadata": {},
   "outputs": [
    {
     "name": "stdout",
     "output_type": "stream",
     "text": [
      "[[9.9779809e-01 9.0487156e-04 1.2971479e-03]]\n"
     ]
    }
   ],
   "source": [
    "from keras.preprocessing import image\n",
    "import numpy as np\n",
    "from keras.models import load_model\n",
    "\n",
    "model = load_model('./hrithika_specgrav_model_files_LIGO_new_data_run_two/spec-grav-model-newdata-run-two-07-0.83.hdf5')\n",
    "\n",
    "img = image.load_img(f'F:/SpecGrav/LIGO_detection_data/bbh/L1-GW170104.jpg', target_size=(256, 64))\n",
    "img = image.img_to_array(img)\n",
    "img /= 255\n",
    "img_array = np.array([img])\n",
    "pred = model.predict(img_array)\n",
    "print(pred)\n",
    "index = np.argmax(pred[0])\n",
    "# print(event_list[index])"
   ]
  },
  {
   "cell_type": "code",
   "execution_count": null,
   "metadata": {},
   "outputs": [],
   "source": []
  }
 ],
 "metadata": {
  "kernelspec": {
   "display_name": "Python 3",
   "language": "python",
   "name": "python3"
  },
  "language_info": {
   "codemirror_mode": {
    "name": "ipython",
    "version": 3
   },
   "file_extension": ".py",
   "mimetype": "text/x-python",
   "name": "python",
   "nbconvert_exporter": "python",
   "pygments_lexer": "ipython3",
   "version": "3.7.6"
  }
 },
 "nbformat": 4,
 "nbformat_minor": 2
}
